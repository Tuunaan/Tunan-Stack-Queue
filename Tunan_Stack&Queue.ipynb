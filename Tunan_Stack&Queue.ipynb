{
  "nbformat": 4,
  "nbformat_minor": 0,
  "metadata": {
    "colab": {
      "provenance": []
    },
    "kernelspec": {
      "name": "python3",
      "display_name": "Python 3"
    },
    "language_info": {
      "name": "python"
    }
  },
  "cells": [
    {
      "cell_type": "code",
      "execution_count": 1,
      "metadata": {
        "id": "yiusgpdhVzA5"
      },
      "outputs": [],
      "source": [
        "class Stack:\n",
        "    def __init__(self, capacity):\n",
        "        # initialize with necessary instance attributes\n",
        "        self.cap=capacity\n",
        "        self.array=[None]*self.cap\n",
        "        self.top=0\n",
        "\n",
        "\n",
        "    def is_empty(self):\n",
        "        # return true if the stack is empty, false\n",
        "        count=0\n",
        "        for i in range(self.cap):\n",
        "          if self.array[i]==None:\n",
        "            count=count+1\n",
        "          else:\n",
        "            continue\n",
        "        if count==self.cap:\n",
        "          return(True)\n",
        "        else:\n",
        "          return(False)\n",
        "\n",
        "\n",
        "    def push(self, value):\n",
        "        # insert the value in the stack\n",
        "        if self.is_full()==True:\n",
        "          print(\"OverFlow Exception\")\n",
        "        else:\n",
        "          self.array[self.top]=value\n",
        "          self.top+=1\n",
        "        print(self.array)\n",
        "    def pop(self):\n",
        "        # remove the most recently inserted element in the stack\n",
        "        # return the element\n",
        "        if self.is_empty()==True:\n",
        "          print(\"UnderFlow Exception\")\n",
        "        else:\n",
        "          x=self.array[self.top-1]\n",
        "          self.array[self.top-1]=None\n",
        "          self.top=self.top-1\n",
        "          return x\n",
        "        print(self.array)\n",
        "\n",
        "\n",
        "    def top(self):\n",
        "        # show the most recently inserted element in the stack\n",
        "        return (self.array[self.top-1])\n",
        "        print(self.array)\n",
        "\n",
        "\n",
        "    def is_full(self):\n",
        "        # return true if the capacity of the stack is full, false otherwise\n",
        "        count=0\n",
        "        for i in range(self.cap):\n",
        "          if self.array[i]!=None:\n",
        "            count=count+1\n",
        "          else:\n",
        "            continue\n",
        "        if count==self.cap:\n",
        "          return(True)\n",
        "        else:\n",
        "          return(False)\n"
      ]
    },
    {
      "cell_type": "code",
      "source": [
        "#Queue with Array\n",
        "class Queue:\n",
        "  q=[]\n",
        "  front=0\n",
        "  rear=-1\n",
        "  def enqueue(self,val):\n",
        "    self.q.append(val)\n",
        "    self.rear+=1\n",
        "  def dequeue(self):\n",
        "    temp=self.q[self.front]\n",
        "    self.q=self.q[self.front+1:self.rear]\n",
        "    self.rear-=1\n",
        "    return temp\n",
        "  def peek(self):\n",
        "    return(self.q[self.front])\n",
        "queue=Queue()\n",
        "queue.enqueue(10)\n",
        "print(\"Top:\",queue.peek())\n",
        "queue.enqueue(11)\n",
        "queue.enqueue(12)\n",
        "queue.enqueue(13)\n",
        "queue.enqueue(14)\n",
        "print(\"Top:\",queue.peek())\n",
        "print(\"Removed:\",queue.dequeue())\n",
        "print(\"Top:\",queue.peek())\n",
        "queue.enqueue(15)\n",
        "\n",
        "\n",
        "\n",
        "#Output:\n",
        "#Top: 10\n",
        "#Top: 10\n",
        "#Removed: 10\n",
        "#Top: 11"
      ],
      "metadata": {
        "colab": {
          "base_uri": "https://localhost:8080/"
        },
        "id": "l5jY2AxcV5aO",
        "outputId": "c5066a24-e317-43c1-dff1-f360d4e3dd8c"
      },
      "execution_count": 3,
      "outputs": [
        {
          "output_type": "stream",
          "name": "stdout",
          "text": [
            "Top: 10\n",
            "Top: 10\n",
            "Removed: 10\n",
            "Top: 11\n"
          ]
        }
      ]
    },
    {
      "cell_type": "code",
      "source": [
        "#Queue with LibkedList\n",
        "class Node:\n",
        "  def __init__(self,val):\n",
        "    self.val=val\n",
        "    self.next=None\n",
        "class Queue_LinkedList:\n",
        "  head=None\n",
        "  tail=None\n",
        "  def enqueue(self, data):\n",
        "    n=Node(data)\n",
        "    if self.head==None:\n",
        "      self.head=n\n",
        "      self.tail=n\n",
        "    else:\n",
        "      self.tail.next=n\n",
        "      self.tail=n\n",
        "  def dequeue(self):\n",
        "    temp=self.head\n",
        "    self.head=self.head.next\n",
        "    print(\"Removed:\", temp.val)\n",
        "    temp.val=None\n",
        "    temp.next=None\n",
        "  def pook(self):\n",
        "    return self.head.val\n",
        "queue=Queue()\n",
        "queue.enqueue(10)\n",
        "print(\"Top:\",queue.peek())\n",
        "queue.enqueue(11)\n",
        "queue.enqueue(12)\n",
        "queue.enqueue(13)\n",
        "queue.enqueue(14)\n",
        "print(\"Top:\",queue.peek())\n",
        "print(\"Removed:\",queue.dequeue())\n",
        "print(\"Top:\",queue.peek())\n",
        "queue.enqueue(15)"
      ],
      "metadata": {
        "colab": {
          "base_uri": "https://localhost:8080/"
        },
        "id": "SNNaKFZ3WGM8",
        "outputId": "d2915d3d-db89-48ef-e785-dae997fcdf5e"
      },
      "execution_count": 4,
      "outputs": [
        {
          "output_type": "stream",
          "name": "stdout",
          "text": [
            "Top: 10\n",
            "Top: 10\n",
            "Removed: 10\n",
            "Top: 11\n"
          ]
        }
      ]
    }
  ]
}